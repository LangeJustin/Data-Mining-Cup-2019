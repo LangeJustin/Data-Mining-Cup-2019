{
 "cells": [
  {
   "cell_type": "markdown",
   "metadata": {},
   "source": [
    "# AGD Lab Qualifcation Task "
   ]
  },
  {
   "cell_type": "code",
   "execution_count": 1,
   "metadata": {},
   "outputs": [
    {
     "data": {
      "text/html": [
       "<img src=\"http://crisp-dm.eu/wp-content/uploads/2013/07/newcrispdiagram.gif\"/>"
      ],
      "text/plain": [
       "<IPython.core.display.Image object>"
      ]
     },
     "execution_count": 1,
     "metadata": {},
     "output_type": "execute_result"
    }
   ],
   "source": [
    "from IPython.display import Image\n",
    "url = 'http://crisp-dm.eu/wp-content/uploads/2013/07/newcrispdiagram.gif'\n",
    "Image(url=url)"
   ]
  },
  {
   "cell_type": "markdown",
   "metadata": {},
   "source": [
    "# 1. Data Adquisition"
   ]
  },
  {
   "cell_type": "code",
   "execution_count": 2,
   "metadata": {},
   "outputs": [],
   "source": [
    "import pandas as pd\n",
    "\n",
    "df_test = pd.read_csv('./data/test.csv', delimiter=\"|\")\n",
    "df_train = pd.read_csv('./data/train.csv', delimiter=\"|\")"
   ]
  },
  {
   "cell_type": "markdown",
   "metadata": {},
   "source": [
    "# 2. Business Case understanding"
   ]
  },
  {
   "cell_type": "markdown",
   "metadata": {},
   "source": [
    "An established food retailer has introduced a self-scanning system that allows customers to scan their items using a handheld mobile scanner while shopping. This type of payment leaves retailers open to the risk that a certain number of customers will take advantage of this freedom to commit fraud by not scanning all of the items in their cart.\n",
    "\n",
    "To minimize losses, the food retailer hopes to identify cases of fraud using targeted follow-up checks. The challenge here is to keep the number of checks as low as possible to avoid unnecessary added expense as well as to avoid putting off innocent customers due to false accusations. The objective  is to create a model to classify the scans as fraudulent or non-fraudulent. The classification does not take into account whether the fraud was committed intentionally or inadvertently. \n",
    "\n",
    "In addition to this general task, the retailer has defined his own domain specific costs outcomes for each possible prediction. This needs to be considered when evaluation possible prediction models.\n",
    "\n",
    "- True Positive Cost: 5€\n",
    "- False Positive Cost: -25 €\n",
    "- True Negative Cost: 0€\n",
    "- False Negative Cost: -5€\n",
    "\n",
    "Thus, the retailer receives a profit of € 5 for every correctly identified fraud attempt (TP). However, for every fraud case that goes unexposed he loses € 5 (FN). A costumer falsely accused of fraud (FP), might not return to this store, which is denoted by a € 25 loss for the retailer. An honest customer identified (TN) correctly means neither profit nor loss for the retailer."
   ]
  },
  {
   "cell_type": "markdown",
   "metadata": {},
   "source": [
    "# 3. Data Understanding"
   ]
  },
  {
   "cell_type": "code",
   "execution_count": 3,
   "metadata": {
    "scrolled": true
   },
   "outputs": [
    {
     "data": {
      "text/html": [
       "<div>\n",
       "<style scoped>\n",
       "    .dataframe tbody tr th:only-of-type {\n",
       "        vertical-align: middle;\n",
       "    }\n",
       "\n",
       "    .dataframe tbody tr th {\n",
       "        vertical-align: top;\n",
       "    }\n",
       "\n",
       "    .dataframe thead th {\n",
       "        text-align: right;\n",
       "    }\n",
       "</style>\n",
       "<table border=\"1\" class=\"dataframe\">\n",
       "  <thead>\n",
       "    <tr style=\"text-align: right;\">\n",
       "      <th></th>\n",
       "      <th>trustLevel</th>\n",
       "      <th>totalScanTimeInSeconds</th>\n",
       "      <th>grandTotal</th>\n",
       "      <th>lineItemVoids</th>\n",
       "      <th>scansWithoutRegistration</th>\n",
       "      <th>quantityModifications</th>\n",
       "      <th>scannedLineItemsPerSecond</th>\n",
       "      <th>valuePerSecond</th>\n",
       "      <th>lineItemVoidsPerPosition</th>\n",
       "      <th>fraud</th>\n",
       "    </tr>\n",
       "  </thead>\n",
       "  <tbody>\n",
       "    <tr>\n",
       "      <th>756</th>\n",
       "      <td>4</td>\n",
       "      <td>943</td>\n",
       "      <td>70.03</td>\n",
       "      <td>0</td>\n",
       "      <td>1</td>\n",
       "      <td>2</td>\n",
       "      <td>0.004242</td>\n",
       "      <td>0.074263</td>\n",
       "      <td>0.000000</td>\n",
       "      <td>0</td>\n",
       "    </tr>\n",
       "    <tr>\n",
       "      <th>1162</th>\n",
       "      <td>1</td>\n",
       "      <td>834</td>\n",
       "      <td>77.90</td>\n",
       "      <td>2</td>\n",
       "      <td>10</td>\n",
       "      <td>4</td>\n",
       "      <td>0.031175</td>\n",
       "      <td>0.093405</td>\n",
       "      <td>0.076923</td>\n",
       "      <td>1</td>\n",
       "    </tr>\n",
       "    <tr>\n",
       "      <th>1095</th>\n",
       "      <td>5</td>\n",
       "      <td>1308</td>\n",
       "      <td>15.42</td>\n",
       "      <td>10</td>\n",
       "      <td>4</td>\n",
       "      <td>1</td>\n",
       "      <td>0.019113</td>\n",
       "      <td>0.011789</td>\n",
       "      <td>0.400000</td>\n",
       "      <td>0</td>\n",
       "    </tr>\n",
       "    <tr>\n",
       "      <th>1653</th>\n",
       "      <td>5</td>\n",
       "      <td>1273</td>\n",
       "      <td>19.48</td>\n",
       "      <td>1</td>\n",
       "      <td>2</td>\n",
       "      <td>3</td>\n",
       "      <td>0.019639</td>\n",
       "      <td>0.015302</td>\n",
       "      <td>0.040000</td>\n",
       "      <td>0</td>\n",
       "    </tr>\n",
       "    <tr>\n",
       "      <th>1480</th>\n",
       "      <td>2</td>\n",
       "      <td>1765</td>\n",
       "      <td>85.29</td>\n",
       "      <td>8</td>\n",
       "      <td>5</td>\n",
       "      <td>3</td>\n",
       "      <td>0.011331</td>\n",
       "      <td>0.048323</td>\n",
       "      <td>0.400000</td>\n",
       "      <td>0</td>\n",
       "    </tr>\n",
       "  </tbody>\n",
       "</table>\n",
       "</div>"
      ],
      "text/plain": [
       "      trustLevel  totalScanTimeInSeconds  grandTotal  lineItemVoids  \\\n",
       "756            4                     943       70.03              0   \n",
       "1162           1                     834       77.90              2   \n",
       "1095           5                    1308       15.42             10   \n",
       "1653           5                    1273       19.48              1   \n",
       "1480           2                    1765       85.29              8   \n",
       "\n",
       "      scansWithoutRegistration  quantityModifications  \\\n",
       "756                          1                      2   \n",
       "1162                        10                      4   \n",
       "1095                         4                      1   \n",
       "1653                         2                      3   \n",
       "1480                         5                      3   \n",
       "\n",
       "      scannedLineItemsPerSecond  valuePerSecond  lineItemVoidsPerPosition  \\\n",
       "756                    0.004242        0.074263                  0.000000   \n",
       "1162                   0.031175        0.093405                  0.076923   \n",
       "1095                   0.019113        0.011789                  0.400000   \n",
       "1653                   0.019639        0.015302                  0.040000   \n",
       "1480                   0.011331        0.048323                  0.400000   \n",
       "\n",
       "      fraud  \n",
       "756       0  \n",
       "1162      1  \n",
       "1095      0  \n",
       "1653      0  \n",
       "1480      0  "
      ]
     },
     "execution_count": 3,
     "metadata": {},
     "output_type": "execute_result"
    }
   ],
   "source": [
    "df_train.sample(5)"
   ]
  },
  {
   "cell_type": "markdown",
   "metadata": {},
   "source": [
    "In the following, I will state a few core expects of the features. This is necessary to get a general feeling of the data and extract potential new features in the next step.\n",
    "\n",
    "* **Trust Level** ~ A customers trust level rated between 1-6\n",
    "* **Total scaned Item in sec** ~ total time in seconds between first and last product scanned\n",
    "* **Grand total** ~ Total of products scanned\n",
    "* **Line items voids** ~ Nr. of voided scanes\n",
    "* **Scans without reg**~ Attempts to scan something without actually scanning something\n",
    "* **Quantity Modification** ~ Number of modified quantities \n",
    "* **Scanned lined items per seconds** ~ Average number of scanned products\n",
    "* **Value per send** ~ Average total value per second\n",
    "* **Line items void per seconds** ~ Avg nr of item voids per total nr of all scanned and not canceled product\n",
    "* **Fraud**~ Classification\n",
    "\n"
   ]
  },
  {
   "cell_type": "markdown",
   "metadata": {},
   "source": [
    "# 4. Data Preperation"
   ]
  },
  {
   "cell_type": "markdown",
   "metadata": {},
   "source": [
    "## 4.1 Data Cleaning"
   ]
  },
  {
   "cell_type": "code",
   "execution_count": 4,
   "metadata": {},
   "outputs": [
    {
     "data": {
      "text/plain": [
       "trustLevel                     int64\n",
       "totalScanTimeInSeconds         int64\n",
       "grandTotal                   float64\n",
       "lineItemVoids                  int64\n",
       "scansWithoutRegistration       int64\n",
       "quantityModifications          int64\n",
       "scannedLineItemsPerSecond    float64\n",
       "valuePerSecond               float64\n",
       "lineItemVoidsPerPosition     float64\n",
       "fraud                          int64\n",
       "dtype: object"
      ]
     },
     "execution_count": 4,
     "metadata": {},
     "output_type": "execute_result"
    }
   ],
   "source": [
    "# 1. Checking data types\n",
    "df_train.dtypes"
   ]
  },
  {
   "cell_type": "code",
   "execution_count": 5,
   "metadata": {},
   "outputs": [
    {
     "name": "stdout",
     "output_type": "stream",
     "text": [
      "Number of NaN values: 0\n"
     ]
    }
   ],
   "source": [
    "# 2. Checking if rows exists where cells are NaN\n",
    "print(\"Number of NaN values:\", len(df_train) - len(df_train.isna().any(axis=1)))"
   ]
  },
  {
   "cell_type": "markdown",
   "metadata": {},
   "source": [
    "The provided data of DMC 2019 seems as \"clean\" as a could be. All features have appropriate data types and no NaN value exists. Therefore, I will leave the data set as it is and continue with selecting and extracting appropriate features. After selecting and potentially generating new features, I will however consider detecting outliners."
   ]
  },
  {
   "cell_type": "markdown",
   "metadata": {},
   "source": [
    "## 4.2 Feature Extraction"
   ]
  },
  {
   "cell_type": "markdown",
   "metadata": {},
   "source": [
    "In general, within a data set, there is many \"hidden\" information which needs to be explored by carefully looking at the data. Referring back to part 3 (Data Understanding), many possible interesting features can be generated. In the following steps I will try to enrich the data set by extracting potential values features. Their valuebility will afterwards be evaluated by measuring correlation with the output variable.\n",
    "\n",
    "1. Extracting **total amount of items** by multiplying **\"scannedLineItemsPerSecond\"** with **\"totalScanTimeInSeconds\"**"
   ]
  },
  {
   "cell_type": "code",
   "execution_count": 6,
   "metadata": {},
   "outputs": [],
   "source": [
    "df_train[\"totalItems\"] = df_train[\"scannedLineItemsPerSecond\"] * df_train[\"totalScanTimeInSeconds\"]\n",
    "df_test[\"totalItems\"] = df_test[\"scannedLineItemsPerSecond\"] * df_test[\"totalScanTimeInSeconds\"]"
   ]
  },
  {
   "cell_type": "markdown",
   "metadata": {},
   "source": [
    "2. Extracting **seconds per Euro** by multiplying **\"grandTotal\"** with **\"scannedLineItems\"**"
   ]
  },
  {
   "cell_type": "code",
   "execution_count": 7,
   "metadata": {},
   "outputs": [],
   "source": [
    "df_train['secondsPerEuro'] = df_train['grandTotal'] / df_train['totalItems']\n",
    "df_test['secondsPerEuro'] = df_test['grandTotal'] / df_test['totalItems']"
   ]
  },
  {
   "cell_type": "code",
   "execution_count": 8,
   "metadata": {},
   "outputs": [],
   "source": [
    "# Swap target to last column (just for better Understandability...)\n",
    "df_temp_1 = df_train.pop('totalItems') \n",
    "df_temp_2 = df_train.pop('fraud') \n",
    "df_train['totalItems']=df_temp_1 \n",
    "df_train['fraud']=df_temp_2 "
   ]
  },
  {
   "cell_type": "markdown",
   "metadata": {},
   "source": [
    "## 4.3 Feature Selection"
   ]
  },
  {
   "cell_type": "markdown",
   "metadata": {},
   "source": [
    "Since not all features are relevant, I will filter irrelevant features out for my models. The filtering is applied using a correlation matrix (Pearson correlation). I will only select those features which have a correlation of above 0.02 (taking absolute value) with the output variable \"**fraud**\".\n",
    "\n",
    "As we can see in the following, there are only a few features which we can classify as correlated. Most of the features are correlated around the notion of 0. Therefore, I will remove those features, which have practically no correlation, setting the absolute boundary at 0.02.\n",
    "\n",
    "Furthermore, the extracted features **total items** and **seconds per euro** are comparable strongly correlated. Wuhu!\n",
    "\n",
    "In the following code section, I will remove all non-relevant features given the above defined boundary."
   ]
  },
  {
   "cell_type": "code",
   "execution_count": 9,
   "metadata": {},
   "outputs": [
    {
     "data": {
      "text/plain": [
       "<Figure size 1200x1000 with 2 Axes>"
      ]
     },
     "metadata": {},
     "output_type": "display_data"
    }
   ],
   "source": [
    "import seaborn as sns\n",
    "import matplotlib.pyplot as plt\n",
    "\n",
    "#Using Pearson Correlation\n",
    "plt.figure(figsize=(12,10))\n",
    "cor = df_train.corr()\n",
    "sns.heatmap(cor, annot=True, cmap=plt.cm.Reds)\n",
    "plt.show()"
   ]
  },
  {
   "cell_type": "code",
   "execution_count": 10,
   "metadata": {},
   "outputs": [
    {
     "data": {
      "text/plain": [
       "trustLevel                   0.319765\n",
       "totalScanTimeInSeconds       0.110414\n",
       "lineItemVoids                0.063496\n",
       "scansWithoutRegistration     0.074123\n",
       "scannedLineItemsPerSecond    0.023085\n",
       "valuePerSecond               0.028873\n",
       "lineItemVoidsPerPosition     0.090116\n",
       "secondsPerEuro               0.100765\n",
       "totalItems                   0.298423\n",
       "fraud                        1.000000\n",
       "Name: fraud, dtype: float64"
      ]
     },
     "execution_count": 10,
     "metadata": {},
     "output_type": "execute_result"
    }
   ],
   "source": [
    "cor_target = abs(cor[\"fraud\"])\n",
    "#Selecting highly correlated features\n",
    "relevant_features = cor_target[cor_target>0.02]\n",
    "relevant_features"
   ]
  },
  {
   "cell_type": "code",
   "execution_count": 11,
   "metadata": {},
   "outputs": [],
   "source": [
    "# Only keep relevant features\n",
    "df_train = df_train[relevant_features.index.values] # Training Set\n",
    "df_test = df_test[relevant_features.iloc[:-1].index.values] # Testing Set"
   ]
  },
  {
   "cell_type": "markdown",
   "metadata": {},
   "source": [
    "## 4.4. Outlier Detection"
   ]
  },
  {
   "cell_type": "code",
   "execution_count": 12,
   "metadata": {},
   "outputs": [
    {
     "data": {
      "image/png": "[encoded data removed]",
      "text/plain": [
       "<Figure size 720x720 with 6 Axes>"
      ]
     },
     "metadata": {
      "needs_background": "light"
     },
     "output_type": "display_data"
    }
   ],
   "source": [
    "def plot_boxplots(df):\n",
    "    fig, axs = plt.subplots(nrows=2, ncols=3,squeeze = True)\n",
    "    fig.tight_layout()\n",
    "    fig.set_figheight(10)\n",
    "    fig.set_figwidth(10)\n",
    "\n",
    "    sns.boxplot(x=df['trustLevel'], ax=axs[0,0])\n",
    "    sns.boxplot(x=df['totalScanTimeInSeconds'], ax=axs[1,0])\n",
    "    sns.boxplot(x=df['lineItemVoidsPerPosition'], ax=axs[0,2])\n",
    "    sns.boxplot(x=df['secondsPerEuro'],ax=axs[0,1])\n",
    "    sns.boxplot(x=df['totalItems'], ax=axs[1,1])\n",
    "    sns.boxplot(x=df['fraud'],ax=axs[1,2])\n",
    "    \n",
    "plot_boxplots(df_train)"
   ]
  },
  {
   "cell_type": "markdown",
   "metadata": {},
   "source": [
    "In the following, I will remove the outliers in **'secondsPerEuro'** and **'LineItemVoidsPerPosition'**. This will be done by keeping only the rows that are within +3 to -3 standard deviations in the column **'LineItemVoidsPerPosition'** and **'secondsPerEuro'**."
   ]
  },
  {
   "cell_type": "code",
   "execution_count": 13,
   "metadata": {},
   "outputs": [
    {
     "data": {
      "image/png": "[encoded data removed]",
      "text/plain": [
       "<Figure size 720x720 with 6 Axes>"
      ]
     },
     "metadata": {
      "needs_background": "light"
     },
     "output_type": "display_data"
    }
   ],
   "source": [
    "import numpy as np\n",
    "\n",
    "# Training Set\n",
    "df_train = df_train[np.abs(df_train.secondsPerEuro-df_train.secondsPerEuro.mean()) <= (3*df_train.secondsPerEuro.std())]\n",
    "df_train = df_train[np.abs(df_train.lineItemVoidsPerPosition-df_train.lineItemVoidsPerPosition.mean()) <= (3*df_train.lineItemVoidsPerPosition.std())]\n",
    "\n",
    "plot_boxplots(df_train)"
   ]
  },
  {
   "cell_type": "markdown",
   "metadata": {},
   "source": [
    "## 4.5. Handling Imbalanced data using SMOTE"
   ]
  },
  {
   "cell_type": "code",
   "execution_count": 14,
   "metadata": {},
   "outputs": [
    {
     "data": {
      "image/png": "[encoded data removed]",
      "text/plain": [
       "<Figure size 360x360 with 1 Axes>"
      ]
     },
     "metadata": {},
     "output_type": "display_data"
    }
   ],
   "source": [
    "# Plotting Data Distribution\n",
    "sns.set(style=\"ticks\", color_codes=True)\n",
    "sns.catplot(x=\"fraud\", kind=\"count\", palette=\"ch:.25\", data=df_train);"
   ]
  },
  {
   "cell_type": "markdown",
   "metadata": {},
   "source": [
    "As we can see, the data is highly imbalanced. This will require sample techniques such as SMOTE, Tomek Links, etc.: \n",
    "- oversampling the minority class\n",
    "- undersampling the majority class.\n",
    "\n",
    "Since the overall dataset is sufficient to train a model, it is unfortunately not sufficient to undersampling the majority class. Therefore, I will only consider oversampling methods of the minority class.\n",
    "\n",
    "In the following, I will split the available data into test/evaluation and train sets before using sampling techniques! Sampling before splitting the data can allow the exact same observations to be present in both the test/evaluation and train sets. This can allow the model to simply memorize specific data points and cause overfitting and poor generalization to the test/evaluation data.\n",
    "\n",
    "Since python provides a variety of packages, their are also multiple ways to apply oversampling techniques. I will  consider the SMOTE technique since this was also suggested in the appendix of this task."
   ]
  },
  {
   "cell_type": "markdown",
   "metadata": {},
   "source": [
    "### 4.5.1 Oversampling Minority class using SMOTE"
   ]
  },
  {
   "cell_type": "code",
   "execution_count": 16,
   "metadata": {},
   "outputs": [],
   "source": [
    "import numpy as np\n",
    "import warnings\n",
    "from imblearn.over_sampling import SMOTE\n",
    "from sklearn.model_selection import train_test_split\n",
    "\n",
    "warnings.simplefilter(action='ignore', category=FutureWarning) # for readability purposes\n",
    "\n",
    "X_train, X_test, y_train, y_test = train_test_split(\n",
    "    df_train.drop(columns=['fraud']), df_train['fraud'], test_size=0.2, random_state=np.random.seed(1304)) \n",
    "\n",
    "sm = SMOTE(random_state=np.random.seed(1304), ratio=1.0)\n",
    "X_train, y_train = sm.fit_sample(X_train, y_train)"
   ]
  },
  {
   "cell_type": "code",
   "execution_count": 17,
   "metadata": {},
   "outputs": [
    {
     "data": {
      "image/png": "[encoded data removed]",
      "text/plain": [
       "<Figure size 360x360 with 1 Axes>"
      ]
     },
     "metadata": {},
     "output_type": "display_data"
    }
   ],
   "source": [
    "# check new class counts\n",
    "sns.set(style=\"ticks\", color_codes=True)\n",
    "sns.catplot(x=\"fraud\", kind=\"count\", palette=\"ch:.25\", data=pd.DataFrame(data=y_train, columns=['fraud']));"
   ]
  },
  {
   "cell_type": "markdown",
   "metadata": {},
   "source": [
    "Besides using sampling techniques, we also need to consider appropriate evaluation metrics based on True/False Positives and Negatives such as:\n",
    "- Precision\n",
    "- Recall\n",
    "- Domain-specific cost function"
   ]
  },
  {
   "cell_type": "markdown",
   "metadata": {},
   "source": [
    "# 5. Modelling\n",
    "## 5.1 General domain-specific consideration\n",
    "### 5.1.1 Domain-specific costs"
   ]
  },
  {
   "cell_type": "markdown",
   "metadata": {},
   "source": [
    "As in the data mining cup 2019 pdf-files states, evaluation need to consider cost in terms of prediction outcome:\n",
    "- **True Positive** Cost: 5€\n",
    "- **False Positive** Cost: -25 €\n",
    "- **True Negative** Cost: 0€\n",
    "- **False Negative** Cost: -5€\n",
    "\n",
    "Thus, the retailer receives a profit of € 5 for every correctly identified fraud attempt (TP). However, for every fraud case that goes unexposed he loses € 5 (FN). A costumer falsely accused of fraud (FP), might not return to this store, which is denoted by a € 25 loss for the retailer. An honest customer identified (TN) correctly means neither profit nor loss for the retailer.\n",
    "\n",
    "The sum of the costs or profit of all scans is the monetary value to be considered in the evaluation. Since predicting a fraud comes with considerable costs, it is important to be sensible in predicting Positives as a hole.\n",
    "\n",
    "In the following, I will create two functions. One for calculating the domain specific cost, and one for plotting the confusion matrix."
   ]
  },
  {
   "cell_type": "code",
   "execution_count": 18,
   "metadata": {},
   "outputs": [],
   "source": [
    "from sklearn.metrics import confusion_matrix\n",
    "\n",
    "def calc_domain_specific_metrics(y_true, y_pred):\n",
    "    tp_cost = 5\n",
    "    fp_cost = -25\n",
    "    tn_cost = 0\n",
    "    fn_cost = -5\n",
    "    \n",
    "    tn, fp, fn, tp = confusion_matrix(y_true, y_pred).ravel()\n",
    "    print(\"Precision: \\t\\t\", format(tp/(tp+fp), '.2f'))\n",
    "    print(\"Recall: \\t\\t\",  format(tp/(tp+fn), '.2f'))\n",
    "    print(\"Domain Specific return: \" , ((tp_cost*tp) + (fp_cost*fp) + (tn_cost*tn) + (fn_cost*fn)), '€')    \n",
    "    \n",
    "def calc_return_only(y_true, y_pred):\n",
    "    tp_cost = 5\n",
    "    fp_cost = -25\n",
    "    tn_cost = 0\n",
    "    fn_cost = -5\n",
    "    \n",
    "    tn, fp, fn, tp = confusion_matrix(y_true, y_pred).ravel()\n",
    "    \n",
    "    return ((tp_cost*tp) + (fp_cost*fp) + (tn_cost*tn) + (fn_cost*fn))"
   ]
  },
  {
   "cell_type": "markdown",
   "metadata": {},
   "source": [
    "### 5.1.2 Maximum Possible Profit\n",
    "The best possible outcome in this task is the highest possible return. To measure  this we need the following\n",
    "1. Training data's true targets: **y_train**\n",
    "2. Domain specific return function: **calc_return_only**\n",
    "\n",
    "Then we can compute the maximum possible return assuming we have predicted all outcomes correct:"
   ]
  },
  {
   "cell_type": "code",
   "execution_count": 19,
   "metadata": {},
   "outputs": [
    {
     "name": "stdout",
     "output_type": "stream",
     "text": [
      "Maximimum possible return in training spit: 80 €\n"
     ]
    }
   ],
   "source": [
    "print(\"Maximimum possible return in training spit:\", calc_return_only(y_true=y_test, y_pred=y_test),\"€\")"
   ]
  },
  {
   "cell_type": "code",
   "execution_count": 20,
   "metadata": {},
   "outputs": [
    {
     "name": "stdout",
     "output_type": "stream",
     "text": [
      "Maximimum possible loss in training spit: -8630 €\n"
     ]
    }
   ],
   "source": [
    "print(\"Maximimum possible loss in training spit:\", calc_return_only(y_true=y_test, y_pred=(~y_test.astype(bool)).astype(int)),\"€\")"
   ]
  },
  {
   "cell_type": "markdown",
   "metadata": {},
   "source": [
    "Given the training set which I have splitting using random 80-20 split, we can achieve a profit within the boundaries of **[-8630€ : 80€]**. This means that there is \"not much to win\". Given this insight it will be important to be extremely careful and sensible in predicting positive fraud, since False Positive will result in huge profit loss."
   ]
  },
  {
   "cell_type": "markdown",
   "metadata": {},
   "source": [
    " ### 5.1.3 Precision favoured over Recall\n",
    "\n",
    "Given the above domain specific costs, we can see that we need to consider the trade-off between high precision, and high recall values. However, since False Positive is extremely costly for the retailers, and True Positives provides long-term profit benefits, I will prefer models with high precision score since precision is trying to minimize False Positive while maximizing True Positives. Thus, if precision is high, we can assume False Positives are low and True Positives are High.\n",
    "\n",
    "Given the importance, the following function will be used for plotting a confusion matrix for every single model\n"
   ]
  },
  {
   "cell_type": "code",
   "execution_count": 38,
   "metadata": {},
   "outputs": [],
   "source": [
    "from sklearn.metrics import plot_confusion_matrix\n",
    "\n",
    "def plot_confusion_mat(X_test, y_test, cls, txt):\n",
    "    title = \"Confusion Matrix of \" + txt\n",
    "    disp = plot_confusion_matrix(cls, X_test, y_test,\n",
    "                                     display_labels=['No Fraud', 'Fraud'],\n",
    "                                     cmap=plt.cm.Blues,\n",
    "                                     )\n",
    "    disp.ax_.set_title(title)\n",
    "\n",
    "    plt.show()"
   ]
  },
  {
   "cell_type": "markdown",
   "metadata": {},
   "source": [
    "### 5.1.4 Algorithm considerations\n",
    "Since our domain specific problem creates high costs from false predictions (in particular false positive) it is important to consider appropriate model design decisions. In general, no predefined classifier or solution exists for any problem (free lunch theorem). Two general approaches however can be considered for huge costs caused by false classification.\n",
    "\n",
    "#### 1. Weight update scheme of algorithm\n",
    "Since facing a supervised problem, the learning rate for the target variable can be set differently. In particular, setting the learning rate for fraud=1 higher compared to fraud=0 would increase sensibility towards predicting fraud.\n",
    "\n",
    "#### 2. Optimal decision threshold\n",
    "Another option to increase sensibility toward predicting fraud is setting a probability threshold. As mention above, we cannot gain much \"profit\" anyway (max = 80€). However, loosing profit can be achieved very fast (min = -8630€)"
   ]
  },
  {
   "cell_type": "markdown",
   "metadata": {},
   "source": [
    "## 5.2 Modelling the Baseline: Naïve Bayes\n",
    "Fundamentally, a baseline is a model that is both simple to set up and has a reasonable chance of providing decent results. Usually, a baseline model consists of relatively few trainable parameters and can be quickly fitted to the data without too much work. Using such a simple baseline, it is easier to identify where a simple baseline model fails for a given task and to make conclusions about where improvements are necessary. \n",
    "\n",
    "The Naïve Bayes classifier is simple to understand, fast to train, and only has a limited amount of hyperparameters to optimize. It is also one of the most straightforward yet most effective classification techniques."
   ]
  },
  {
   "cell_type": "code",
   "execution_count": 39,
   "metadata": {},
   "outputs": [],
   "source": [
    "from sklearn import pipeline\n",
    "from sklearn.preprocessing import StandardScaler\n",
    "from sklearn.naive_bayes import GaussianNB"
   ]
  },
  {
   "cell_type": "code",
   "execution_count": 40,
   "metadata": {},
   "outputs": [],
   "source": [
    "cls_nb = pipeline.Pipeline([\n",
    "    ('scal', StandardScaler()),\n",
    "    ('clf', GaussianNB())\n",
    "])\n",
    "\n",
    "cls_nb = cls_nb.fit(X_train, y_train)\n",
    "predY_nb = cls_nb.predict(X_test)"
   ]
  },
  {
   "cell_type": "code",
   "execution_count": 41,
   "metadata": {},
   "outputs": [
    {
     "data": {
      "image/png": "[encoded data removed]",
      "text/plain": [
       "<Figure size 432x288 with 2 Axes>"
      ]
     },
     "metadata": {},
     "output_type": "display_data"
    },
    {
     "name": "stdout",
     "output_type": "stream",
     "text": [
      "Precision: \t\t 0.33\n",
      "Recall: \t\t 0.94\n",
      "Domain Specific return:  -705 €\n"
     ]
    }
   ],
   "source": [
    "plot_confusion_mat(X_test, y_test, cls_nb, \"Baseline: Naive Bayer\")\n",
    "calc_domain_specific_metrics(y_test, predY_nb)"
   ]
  },
  {
   "cell_type": "markdown",
   "metadata": {},
   "source": [
    "The baseline model returns high recall score, low precision, and an overall negative return in the domain specific use case. The increase the precision, we need to find a way which is explicitly increasing precision. Precision increases if False Positives increases and/or True Negatives. Since we have a True Negative occurrence, we need to focus on the increasing True Positives. This will ultimately result in the reduction of costly False Positives.\n",
    "\n",
    "One idea mentioned above is to modify the weights update scheme of an algorithm. One algorithm that can explicitly model weights classes is SVM with the *class_weight* parameter.\n"
   ]
  },
  {
   "cell_type": "markdown",
   "metadata": {},
   "source": [
    "## 5.2 Weight update scheme of algorithm"
   ]
  },
  {
   "cell_type": "markdown",
   "metadata": {},
   "source": [
    "### 5.2.1 Support Vector Machine - Weight configuration"
   ]
  },
  {
   "cell_type": "markdown",
   "metadata": {},
   "source": [
    "SVM has two core advantages in our use case. It I san algorithm that can explicitly model weights classes with *class_weight* parameter and be can specify the level of sensibility towards misclassification using the hyperparameter *C*."
   ]
  },
  {
   "cell_type": "code",
   "execution_count": 42,
   "metadata": {},
   "outputs": [],
   "source": [
    "from sklearn.svm import SVC\n",
    "\n",
    "cls_svm = pipeline.Pipeline([                          # Setting up Pipeline for SVM\n",
    "    ('scale', StandardScaler()),\n",
    "    ('clf', SVC(C=0.1, kernel='linear', class_weight={0:1.0, 1:2.0}, probability=True, random_state = np.random.seed(1304)))\n",
    "])"
   ]
  },
  {
   "cell_type": "code",
   "execution_count": 43,
   "metadata": {},
   "outputs": [],
   "source": [
    "cls_svm = cls_svm.fit(X_train, y_train)                # Train on training set\n",
    "predY_svm = cls_svm.predict(X_test)                    # Predict on test set"
   ]
  },
  {
   "cell_type": "code",
   "execution_count": 44,
   "metadata": {},
   "outputs": [
    {
     "data": {
      "image/png": "[encoded data removed]",
      "text/plain": [
       "<Figure size 432x288 with 2 Axes>"
      ]
     },
     "metadata": {},
     "output_type": "display_data"
    },
    {
     "name": "stdout",
     "output_type": "stream",
     "text": [
      "Precision: \t\t 0.59\n",
      "Recall: \t\t 1.00\n",
      "Domain Specific return:  -195 €\n"
     ]
    }
   ],
   "source": [
    "plot_confusion_mat(X_test, y_test, cls_svm, \"SVM\")\n",
    "calc_domain_specific_metrics(y_test, predY_svm)"
   ]
  },
  {
   "cell_type": "markdown",
   "metadata": {},
   "source": [
    "### 5.2.3 Random Forest - Weight configuration"
   ]
  },
  {
   "cell_type": "code",
   "execution_count": 45,
   "metadata": {},
   "outputs": [],
   "source": [
    "from sklearn.ensemble import RandomForestClassifier\n",
    "\n",
    "cls_rforest = pipeline.Pipeline([                           # Setting up Pipeline for RF\n",
    "    ('scale', StandardScaler()),\n",
    "    ('clf', RandomForestClassifier(class_weight={0:1.0, 1:20.0}, n_estimators=10, random_state = np.random.seed(1304)))\n",
    "])"
   ]
  },
  {
   "cell_type": "code",
   "execution_count": 46,
   "metadata": {},
   "outputs": [],
   "source": [
    "cls_rforest = cls_rforest.fit(X_train, y_train)             # Train on training set\n",
    "predY_rforest = cls_rforest.predict(X_test)                 # Predict on test set"
   ]
  },
  {
   "cell_type": "code",
   "execution_count": 47,
   "metadata": {
    "scrolled": false
   },
   "outputs": [
    {
     "data": {
      "image/png": "[encoded data removed]",
      "text/plain": [
       "<Figure size 432x288 with 2 Axes>"
      ]
     },
     "metadata": {},
     "output_type": "display_data"
    },
    {
     "name": "stdout",
     "output_type": "stream",
     "text": [
      "Precision: \t\t 0.65\n",
      "Recall: \t\t 0.69\n",
      "Domain Specific return:  -120 €\n"
     ]
    }
   ],
   "source": [
    "plot_confusion_mat(X_test, y_test, cls_rforest, \"Random Forest\")\n",
    "calc_domain_specific_metrics(y_test, predY_rforest)"
   ]
  },
  {
   "cell_type": "markdown",
   "metadata": {},
   "source": [
    "### 5.2.3 Logistic Regression - Weight configuration"
   ]
  },
  {
   "cell_type": "code",
   "execution_count": 48,
   "metadata": {},
   "outputs": [],
   "source": [
    "from sklearn.linear_model import LogisticRegression\n",
    "cls_LR = pipeline.Pipeline([                          # Setting up Pipeline for LR\n",
    "    ('scale', StandardScaler()),\n",
    "    ('clf', LogisticRegression(C=1, class_weight={0:1.0, 1:1.0}, random_state = np.random.seed(1304)))\n",
    "])"
   ]
  },
  {
   "cell_type": "code",
   "execution_count": 49,
   "metadata": {},
   "outputs": [],
   "source": [
    "cls_LR = cls_LR.fit(X_train, y_train)                 # Train on training set\n",
    "predY_LR = cls_LR.predict(X_test)                     # Predict on testing set"
   ]
  },
  {
   "cell_type": "code",
   "execution_count": 50,
   "metadata": {
    "scrolled": true
   },
   "outputs": [
    {
     "data": {
      "image/png": "[encoded data removed]",
      "text/plain": [
       "<Figure size 432x288 with 2 Axes>"
      ]
     },
     "metadata": {},
     "output_type": "display_data"
    },
    {
     "name": "stdout",
     "output_type": "stream",
     "text": [
      "Precision: \t\t 0.67\n",
      "Recall: \t\t 1.00\n",
      "Domain Specific return:  -120 €\n"
     ]
    }
   ],
   "source": [
    "plot_confusion_mat(X_test, y_test, cls_LR, \"Logistic Regression\")\n",
    "calc_domain_specific_metrics(y_test, predY_LR)"
   ]
  },
  {
   "cell_type": "markdown",
   "metadata": {},
   "source": [
    "## 5.3 Optimal decision thresholds"
   ]
  },
  {
   "cell_type": "markdown",
   "metadata": {},
   "source": [
    "My aim with threshold is to not just only build a general robust classifier, but a classifier which is optimized based on sensitivity towards predicting positives. The idea therefore is to the decision threshold to identify the best decision point. This basically means that I am trying to optimize domain specific costs while holding other parameters constant. \n",
    "\n",
    "In the following function, I will plot the consequences of different decision boundaries on the domain specific costs."
   ]
  },
  {
   "cell_type": "code",
   "execution_count": 53,
   "metadata": {},
   "outputs": [],
   "source": [
    "def compute_thresholds(clf):\n",
    "    returns = []\n",
    "    thresholds = []\n",
    "    \n",
    "    for threshold in np.logspace(0, 1, num=500, base=0.5):\n",
    "        predicted_proba = clf.predict_proba(X_test)\n",
    "        predicted = (predicted_proba [:,1] >= threshold).astype('int')\n",
    "        returns.append(calc_return_only(y_test, predicted))\n",
    "        thresholds.append(threshold)\n",
    "        \n",
    "    ax = sns.lineplot(x=thresholds, y=returns)\n",
    "    ax.set(xlabel='Threshold', ylabel='Expected return in €', title='Threshold vs. Expected Return')"
   ]
  },
  {
   "cell_type": "markdown",
   "metadata": {},
   "source": [
    "### 5.3.1 Support Vector Machines - decision thresholds"
   ]
  },
  {
   "cell_type": "code",
   "execution_count": 54,
   "metadata": {},
   "outputs": [
    {
     "data": {
      "image/png": "[encoded data removed]",
      "text/plain": [
       "<Figure size 432x288 with 1 Axes>"
      ]
     },
     "metadata": {},
     "output_type": "display_data"
    }
   ],
   "source": [
    "compute_thresholds(clf = cls_svm)"
   ]
  },
  {
   "cell_type": "markdown",
   "metadata": {},
   "source": [
    "Hence, setting a threshold for probabilities **> ~0.8** will lead to positive + stable returns!"
   ]
  },
  {
   "cell_type": "code",
   "execution_count": 55,
   "metadata": {
    "scrolled": true
   },
   "outputs": [
    {
     "name": "stdout",
     "output_type": "stream",
     "text": [
      "Precision: \t\t 0.88\n",
      "Recall: \t\t 0.94\n",
      "Domain Specific return:  20 €\n"
     ]
    }
   ],
   "source": [
    "threshold = 0.8\n",
    "predicted_proba = cls_svm.predict_proba(X_test)\n",
    "predicted = (predicted_proba [:,1] >= threshold).astype('int')\n",
    "\n",
    "calc_domain_specific_metrics(y_test, predicted)"
   ]
  },
  {
   "cell_type": "markdown",
   "metadata": {},
   "source": [
    "### 5.3.2 Random Forest - decision thresholds"
   ]
  },
  {
   "cell_type": "code",
   "execution_count": 56,
   "metadata": {},
   "outputs": [
    {
     "data": {
      "image/png": "[encoded data removed]",
      "text/plain": [
       "<Figure size 432x288 with 1 Axes>"
      ]
     },
     "metadata": {},
     "output_type": "display_data"
    }
   ],
   "source": [
    "compute_thresholds(clf = cls_rforest)"
   ]
  },
  {
   "cell_type": "markdown",
   "metadata": {},
   "source": [
    "Hence, setting a threshold for probabilities **> ~0.85** will lead to best returns! However negative!"
   ]
  },
  {
   "cell_type": "code",
   "execution_count": 57,
   "metadata": {},
   "outputs": [
    {
     "name": "stdout",
     "output_type": "stream",
     "text": [
      "Precision: \t\t 0.88\n",
      "Recall: \t\t 0.44\n",
      "Domain Specific return:  -35 €\n"
     ]
    }
   ],
   "source": [
    "threshold = 0.85\n",
    "predicted_proba = cls_rforest.predict_proba(X_test)\n",
    "predicted = (predicted_proba [:,1] >= threshold).astype('int')\n",
    "\n",
    "calc_domain_specific_metrics(y_test, predicted)"
   ]
  },
  {
   "cell_type": "markdown",
   "metadata": {},
   "source": [
    "### 5.3.3 Logistic Regression - decision thresholds"
   ]
  },
  {
   "cell_type": "code",
   "execution_count": 58,
   "metadata": {},
   "outputs": [
    {
     "data": {
      "image/png": "[encoded data removed]",
      "text/plain": [
       "<Figure size 432x288 with 1 Axes>"
      ]
     },
     "metadata": {},
     "output_type": "display_data"
    }
   ],
   "source": [
    "compute_thresholds(clf = cls_LR)"
   ]
  },
  {
   "cell_type": "markdown",
   "metadata": {},
   "source": [
    "Hence, setting a threshold for probabilities **~0.9** will lead to best returns!"
   ]
  },
  {
   "cell_type": "code",
   "execution_count": 59,
   "metadata": {},
   "outputs": [
    {
     "name": "stdout",
     "output_type": "stream",
     "text": [
      "Precision: \t\t 0.83\n",
      "Recall: \t\t 0.62\n",
      "Domain Specific return:  -30 €\n"
     ]
    }
   ],
   "source": [
    "threshold = 0.9\n",
    "predicted_proba = cls_LR.predict_proba(X_test)\n",
    "predicted = (predicted_proba [:,1] >= threshold).astype('int')\n",
    "\n",
    "calc_domain_specific_metrics(y_test, predicted)"
   ]
  },
  {
   "cell_type": "markdown",
   "metadata": {},
   "source": [
    "## 5.4 Hyperparameter Optimization and Cross Validation"
   ]
  },
  {
   "cell_type": "markdown",
   "metadata": {},
   "source": [
    "### 5.4.1 SVM - GridSearchCV"
   ]
  },
  {
   "cell_type": "code",
   "execution_count": 60,
   "metadata": {},
   "outputs": [],
   "source": [
    "from sklearn.model_selection import GridSearchCV\n",
    "\n",
    "estimator_svm = pipeline.Pipeline([                                 # Setting up pipeline for SVM\n",
    "    ('scale', StandardScaler()),\n",
    "    ('clf', SVC(kernel='linear',gamma='auto', probability=True, random_state = np.random.seed(1304)))\n",
    "])\n",
    "\n",
    "param_grid_svm =  {                                                 # Setting up hyperparameter grid\n",
    "    'clf__C' : np.logspace(0, 1, num=10, base=0.01),\n",
    "    'clf__class_weight': [{0:w, 1:1} for w in [1, 2, 5, 10]],\n",
    "    'clf__shrinking': [True, False],\n",
    "}"
   ]
  },
  {
   "cell_type": "code",
   "execution_count": 61,
   "metadata": {},
   "outputs": [
    {
     "name": "stdout",
     "output_type": "stream",
     "text": [
      "Fitting 10 folds for each of 80 candidates, totalling 800 fits\n"
     ]
    },
    {
     "name": "stderr",
     "output_type": "stream",
     "text": [
      "[Parallel(n_jobs=-1)]: Using backend LokyBackend with 4 concurrent workers.\n",
      "[Parallel(n_jobs=-1)]: Done  42 tasks      | elapsed:    3.0s\n",
      "[Parallel(n_jobs=-1)]: Done 192 tasks      | elapsed:    9.8s\n",
      "[Parallel(n_jobs=-1)]: Done 442 tasks      | elapsed:   21.2s\n",
      "[Parallel(n_jobs=-1)]: Done 792 tasks      | elapsed:   45.7s\n",
      "[Parallel(n_jobs=-1)]: Done 800 out of 800 | elapsed:   46.6s finished\n"
     ]
    }
   ],
   "source": [
    "cls_svm_grid = GridSearchCV(estimator_svm, param_grid_svm, cv=10, n_jobs=-1, verbose=1, refit='precision_score')\n",
    "cls_svm_grid = cls_svm_grid.fit(X_train, y_train)"
   ]
  },
  {
   "cell_type": "code",
   "execution_count": 62,
   "metadata": {},
   "outputs": [
    {
     "data": {
      "image/png": "[encoded data removed]",
      "text/plain": [
       "<Figure size 432x288 with 2 Axes>"
      ]
     },
     "metadata": {},
     "output_type": "display_data"
    },
    {
     "name": "stdout",
     "output_type": "stream",
     "text": [
      "Precision: \t\t 0.88\n",
      "Recall: \t\t 0.94\n",
      "Domain Specific return:  20 €\n"
     ]
    }
   ],
   "source": [
    "predY_svm_grid = cls_svm_grid.predict(X_test)                   # Predict on test set\n",
    "plot_confusion_mat(X_test, y_test, cls_svm_grid, \"SVM Grid\")    # Plot confusion matrix\n",
    "calc_domain_specific_metrics(y_test, predY_svm_grid)            # compute domain return"
   ]
  },
  {
   "cell_type": "code",
   "execution_count": 63,
   "metadata": {},
   "outputs": [
    {
     "data": {
      "image/png": "[encoded data removed]",
      "text/plain": [
       "<Figure size 432x288 with 1 Axes>"
      ]
     },
     "metadata": {},
     "output_type": "display_data"
    }
   ],
   "source": [
    "compute_thresholds(clf = cls_svm_grid)"
   ]
  },
  {
   "cell_type": "code",
   "execution_count": 64,
   "metadata": {},
   "outputs": [
    {
     "name": "stdout",
     "output_type": "stream",
     "text": [
      "Precision: \t\t 0.88\n",
      "Recall: \t\t 0.94\n",
      "Domain Specific return:  20 €\n"
     ]
    }
   ],
   "source": [
    "threshold = 0.8\n",
    "predicted_proba = cls_svm_grid.predict_proba(X_test)\n",
    "predicted = (predicted_proba [:,1] >= threshold).astype('int')\n",
    "\n",
    "calc_domain_specific_metrics(y_test, predicted)"
   ]
  },
  {
   "cell_type": "markdown",
   "metadata": {},
   "source": [
    "### 5.4.2 Random Forest - GridSearchCV"
   ]
  },
  {
   "cell_type": "code",
   "execution_count": 65,
   "metadata": {},
   "outputs": [],
   "source": [
    "estimator_rf = pipeline.Pipeline([\n",
    "    ('scale', StandardScaler()),\n",
    "    ('clf', RandomForestClassifier(random_state = np.random.seed(1304)))\n",
    "])\n",
    "\n",
    "param_grid_rf = {\n",
    "    'clf__n_estimators' : [5, 10, 50],\n",
    "    'clf__max_depth' : [None, 10, 20],\n",
    "    'clf__class_weight': [{0:w, 1:1} for w in [1, 2, 5, 10]],\n",
    "    'clf__ccp_alpha' : [0.0, 0.1, 0.2]\n",
    "}"
   ]
  },
  {
   "cell_type": "code",
   "execution_count": 66,
   "metadata": {},
   "outputs": [
    {
     "name": "stdout",
     "output_type": "stream",
     "text": [
      "Fitting 10 folds for each of 108 candidates, totalling 1080 fits\n"
     ]
    },
    {
     "name": "stderr",
     "output_type": "stream",
     "text": [
      "[Parallel(n_jobs=-1)]: Using backend LokyBackend with 4 concurrent workers.\n",
      "[Parallel(n_jobs=-1)]: Done 128 tasks      | elapsed:    5.5s\n",
      "[Parallel(n_jobs=-1)]: Done 728 tasks      | elapsed:   31.3s\n",
      "[Parallel(n_jobs=-1)]: Done 1080 out of 1080 | elapsed:   46.0s finished\n"
     ]
    }
   ],
   "source": [
    "cls_rforest_grid = GridSearchCV(estimator_rf, param_grid_rf, cv=10, n_jobs=-1, verbose=1, refit='precision_score')\n",
    "cls_rforest_grid = cls_rforest_grid.fit(X_train, y_train)\n",
    "predY_rforest_grid = cls_rforest_grid.predict(X_test)"
   ]
  },
  {
   "cell_type": "code",
   "execution_count": 67,
   "metadata": {},
   "outputs": [
    {
     "data": {
      "image/png": "[encoded data removed]",
      "text/plain": [
       "<Figure size 432x288 with 2 Axes>"
      ]
     },
     "metadata": {},
     "output_type": "display_data"
    },
    {
     "name": "stdout",
     "output_type": "stream",
     "text": [
      "Precision: \t\t 0.82\n",
      "Recall: \t\t 0.88\n",
      "Domain Specific return:  -15 €\n"
     ]
    }
   ],
   "source": [
    "plot_confusion_mat(X_test, y_test, cls_rforest_grid, \"RF Grid\")\n",
    "calc_domain_specific_metrics(y_test, predY_rforest_grid)"
   ]
  },
  {
   "cell_type": "code",
   "execution_count": 68,
   "metadata": {},
   "outputs": [
    {
     "data": {
      "image/png": "[encoded data removed]",
      "text/plain": [
       "<Figure size 432x288 with 1 Axes>"
      ]
     },
     "metadata": {},
     "output_type": "display_data"
    }
   ],
   "source": [
    "compute_thresholds(clf = cls_rforest_grid)"
   ]
  },
  {
   "cell_type": "code",
   "execution_count": 69,
   "metadata": {},
   "outputs": [
    {
     "name": "stdout",
     "output_type": "stream",
     "text": [
      "Precision: \t\t 1.00\n",
      "Recall: \t\t 0.44\n",
      "Domain Specific return:  -10 €\n"
     ]
    }
   ],
   "source": [
    "threshold = 0.85\n",
    "predicted_proba = cls_rforest_grid.predict_proba(X_test)\n",
    "predicted = (predicted_proba [:,1] >= threshold).astype('int')\n",
    "\n",
    "calc_domain_specific_metrics(y_test, predicted)"
   ]
  },
  {
   "cell_type": "markdown",
   "metadata": {},
   "source": [
    "### 5.4.3 Logistic Regression - GridSearchCV"
   ]
  },
  {
   "cell_type": "code",
   "execution_count": 70,
   "metadata": {},
   "outputs": [],
   "source": [
    "estimator_LR = pipeline.Pipeline([\n",
    "    ('scale', StandardScaler()),\n",
    "    ('clf', LogisticRegression(random_state = np.random.seed(1304)))\n",
    "])\n",
    "\n",
    "param_grid_LR =  {\n",
    "    'clf__C' : np.logspace(0, 1, num=10, base=0.01),\n",
    "    'clf__class_weight': [{0:w, 1:1} for w in [1, 2, 5, 10]],\n",
    "    'clf__penalty': ['l1', 'l2', 'elasticnet'],\n",
    "    'clf__solver' : ['newton-cg', 'lbfgs', 'liblinear', 'sag', 'saga']\n",
    "}"
   ]
  },
  {
   "cell_type": "code",
   "execution_count": 71,
   "metadata": {},
   "outputs": [
    {
     "name": "stdout",
     "output_type": "stream",
     "text": [
      "Fitting 10 folds for each of 600 candidates, totalling 6000 fits\n"
     ]
    },
    {
     "name": "stderr",
     "output_type": "stream",
     "text": [
      "[Parallel(n_jobs=-1)]: Using backend LokyBackend with 4 concurrent workers.\n",
      "[Parallel(n_jobs=-1)]: Done 688 tasks      | elapsed:    6.5s\n",
      "[Parallel(n_jobs=-1)]: Done 3688 tasks      | elapsed:   31.9s\n",
      "[Parallel(n_jobs=-1)]: Done 6000 out of 6000 | elapsed:   46.6s finished\n"
     ]
    }
   ],
   "source": [
    "cls_LR_grid = GridSearchCV(estimator_LR, param_grid_LR, cv=10, n_jobs=-1, verbose=1, refit='precision_score')\n",
    "cls_LR_grid = cls_LR_grid.fit(X_train, y_train)\n",
    "predY_LR_grid = cls_LR_grid.predict(X_test)"
   ]
  },
  {
   "cell_type": "code",
   "execution_count": 72,
   "metadata": {},
   "outputs": [
    {
     "data": {
      "image/png": "[encoded data removed]",
      "text/plain": [
       "<Figure size 432x288 with 2 Axes>"
      ]
     },
     "metadata": {},
     "output_type": "display_data"
    },
    {
     "name": "stdout",
     "output_type": "stream",
     "text": [
      "Precision: \t\t 0.79\n",
      "Recall: \t\t 0.94\n",
      "Domain Specific return:  -30 €\n"
     ]
    }
   ],
   "source": [
    "plot_confusion_mat(X_test, y_test, cls_LR_grid, \"LR Grid\")\n",
    "calc_domain_specific_metrics(y_test, predY_LR_grid)"
   ]
  },
  {
   "cell_type": "code",
   "execution_count": 73,
   "metadata": {},
   "outputs": [
    {
     "data": {
      "image/png": "[encoded data removed]",
      "text/plain": [
       "<Figure size 432x288 with 1 Axes>"
      ]
     },
     "metadata": {},
     "output_type": "display_data"
    }
   ],
   "source": [
    "compute_thresholds(clf = cls_LR_grid)"
   ]
  },
  {
   "cell_type": "code",
   "execution_count": 74,
   "metadata": {},
   "outputs": [
    {
     "name": "stdout",
     "output_type": "stream",
     "text": [
      "Precision: \t\t 0.88\n",
      "Recall: \t\t 0.94\n",
      "Domain Specific return:  20 €\n"
     ]
    }
   ],
   "source": [
    "threshold = 0.6\n",
    "predicted_proba = cls_LR_grid.predict_proba(X_test)\n",
    "predicted = (predicted_proba [:,1] >= threshold).astype('int')\n",
    "\n",
    "calc_domain_specific_metrics(y_test, predicted)"
   ]
  },
  {
   "cell_type": "markdown",
   "metadata": {},
   "source": [
    "## 5.4 Final Prediction using all data\n",
    "For the final prediction I will use the Support Vector Machine model with CV, weighted classes, prediction threshold and tuned hyperparameters. This model gives a stabel tradeoff between precision and recall and generates a positive overall domain-specific return!"
   ]
  },
  {
   "cell_type": "code",
   "execution_count": 55,
   "metadata": {},
   "outputs": [],
   "source": [
    "X_train, y_train = sm.fit_sample(df_train.drop(columns=['fraud']), df_train['fraud']) # Using all Data to train\n",
    "X = df_test # For final prediciton"
   ]
  },
  {
   "cell_type": "code",
   "execution_count": 56,
   "metadata": {},
   "outputs": [
    {
     "name": "stdout",
     "output_type": "stream",
     "text": [
      "Fitting 10 folds for each of 80 candidates, totalling 800 fits\n"
     ]
    },
    {
     "name": "stderr",
     "output_type": "stream",
     "text": [
      "[Parallel(n_jobs=-1)]: Using backend LokyBackend with 4 concurrent workers.\n",
      "[Parallel(n_jobs=-1)]: Done  76 tasks      | elapsed:    6.8s\n",
      "[Parallel(n_jobs=-1)]: Done 376 tasks      | elapsed:   28.2s\n",
      "[Parallel(n_jobs=-1)]: Done 800 out of 800 | elapsed:  1.1min finished\n"
     ]
    }
   ],
   "source": [
    "cls_svm_grid = GridSearchCV(estimator_svm, param_grid_svm, cv=10, n_jobs=-1, verbose=1, refit='precision_score')\n",
    "cls_svm_grid = cls_svm_grid.fit(X_train, y_train)"
   ]
  },
  {
   "cell_type": "code",
   "execution_count": 57,
   "metadata": {
    "scrolled": true
   },
   "outputs": [],
   "source": [
    "predY_final = cls_svm_grid.predict(X)                   # Predict on test set"
   ]
  },
  {
   "cell_type": "code",
   "execution_count": 58,
   "metadata": {},
   "outputs": [],
   "source": [
    "# pd.DataFrame(predY_final, columns = ['fraud']).to_csv('./data/Justin_Lange-prediction.csv', index=False)"
   ]
  },
  {
   "cell_type": "markdown",
   "metadata": {},
   "source": [
    "# 6. Summery\n",
    "| Algorithm | Test in % | Train in % | CV | Hyperp. tuning |  Weight Config  | threshold | Precision | Recall | Domain-specific exp. return |\n",
    "|:---------:|:---------:|:----------:|:---------------:|:------------------:|:---------------:|:------------------:|:---------:|:------:|:---------------------------:|\n",
    "|     NB    |     80    |     20     |        -        |          -         |        -        |          -         |    .33    |   .94  |            -705€            |\n",
    "|    SVM    |     80    |     20     |        -        |          -         |  {0:1.0, 1:2.0} |          -         |    .59    |   1.0  |            -195€            |\n",
    "|     LR    |     80    |     20     |        -        |          -         |  {0:1.0, 1:1.0} |          -         |    .67    |   1.0  |            -120€            |\n",
    "|     RF    |     80    |     20     |        -        |          -         | {0:1.0, 1:50.0} |          -         |    .85    |   .69  |             -120€            |\n",
    "|    SVM    |     80    |     20     |        -        |          -         |  {0:1.0, 1:2.0} |        >0.8        |    .88    |   .94  |              20€             |\n",
    "|     LR    |     80    |     20     |        -        |          -         |  {0:1.0, 1:1.0} |        >0.9        |    .83    |   .62  |             -30€            |\n",
    "|     RF    |     80    |     20     |        -        |          -         | {0:1.0, 1:10.0} |        >0.65       |    1.0    |   .69  |             -70€             |\n",
    "|    SVM    |     80    |     20     |     10 Fold     |         Yes        |  {0:1.0, 1:2.0} |        >0.8        |    .88    |   .94  |             20€             |\n",
    "|     LR    |     80    |     20     |     10 Fold     |         Yes        |  {0:1.0, 1:1.0} |        >0.9        |    .88    |   .94  |             20€            |\n",
    "|     RF    |     80    |     20     |     10 Fold     |         Yes        | {0:1.0, 1:10.0} |        >0.65       |     1.    |   .44  |             0€             |"
   ]
  },
  {
   "cell_type": "markdown",
   "metadata": {},
   "source": [
    "### Final Remarks\n",
    "The main goal of the retailer is to get more customers by a smoother shopping experience. This would eventually target more customers coming to the shop and therefore create higher revenue margins. \n",
    "This prediction model is however NOT a measurem about if this business model is worth it or not, but rather a question in what extend we should provide control towards possible theft. Therefore, the following remarks of this business setting can be concluded:\n",
    "#### 1.\tThere is more to lose then to win\n",
    "The prediction model required an extreme high precision rate with low False Positive rates. Implementing a prediction model which is not generalising properly could result in catastrophic effects in returning profits. A good generalised model would however only create small increasing profit margins. Therefore, it is necessary to question if we should provide such reactive approaches in general, but rather a proactive approach:\n",
    "\n",
    "#### 2.\tProactive vs. reactive\n",
    "Our model is a reactive approach based on the customers shopping pattern. Since there is much to lose in this reactive approach, it is reasonable to consider a proactive approach. An example of such proactive approach would be staff standing at the scan ensemble to monitor a bunch of scanners. This is a common approach in for common retailers too (IKEA) that provide self-service checkouts.\n",
    "\n",
    "Furthermore, even if the retailer implements a reactive model which generates negative returns, it might still be useful if they would consider the costs of staff savings. Since a reactive approach requires staff which is constantly monitoring, it could be that a model which is generating negative return might generate overall savings if staff could therefore be reduced."
   ]
  }
 ],
 "metadata": {
  "kernelspec": {
   "display_name": "Python 3",
   "language": "python",
   "name": "python3"
  },
  "language_info": {
   "codemirror_mode": {
    "name": "ipython",
    "version": 3
   },
   "file_extension": ".py",
   "mimetype": "text/x-python",
   "name": "python",
   "nbconvert_exporter": "python",
   "pygments_lexer": "ipython3",
   "version": "3.6.5"
  }
 },
 "nbformat": 4,
 "nbformat_minor": 2
}
